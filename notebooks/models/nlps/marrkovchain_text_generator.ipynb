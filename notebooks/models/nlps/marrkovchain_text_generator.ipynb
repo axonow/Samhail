{
 "cells": [
  {
   "cell_type": "markdown",
   "metadata": {},
   "source": [
    "# Markov Chain Text Generator\n",
    "\n",
    "## What is a Markov Chain?\n",
    "A Markov Chain is a stochastic model that describes a sequence of possible events where the probability of each event depends only on the state attained in the previous event. It is widely used in various fields such as natural language processing, game theory, and statistical modeling.\n",
    "\n",
    "In the context of text generation, a Markov Chain can be used to model the probability of a word following another word based on a given text corpus. By training a Markov Chain on a dataset, we can generate new sequences of text that mimic the style and structure of the original data.\n",
    "\n",
    "## How Does It Work?\n",
    "1. **Tokenization**: The input text is split into individual words or tokens.\n",
    "2. **Transition Graph**: A graph is built where each word is a node, and edges represent the probability of transitioning to the next word.\n",
    "3. **Text Generation**: Starting from a given word (or prompt), the model selects the next word based on the probabilities in the graph. This process is repeated to generate a sequence of words.\n",
    "\n",
    "This notebook implements a Markov Chain-based text generator using Python. It reads text data from CSV files, trains a Markov Chain model, and generates new text sequences based on user input."
   ]
  },
  {
   "cell_type": "markdown",
   "metadata": {},
   "source": [
    "## Importing Required Libraries\n",
    "The following libraries are used in this notebook:\n",
    "- `random`: For randomly selecting the next word during text generation.\n",
    "- `string.punctuation`: For removing punctuation during tokenization.\n",
    "- `collections.defaultdict`: For storing the Markov Chain graph as a dictionary of lists.\n",
    "- `pandas`: For reading and processing CSV files."
   ]
  },
  {
   "cell_type": "code",
   "execution_count": 29,
   "metadata": {},
   "outputs": [],
   "source": [
    "# Importing required libraries\n",
    "import random\n",
    "from string import punctuation\n",
    "from collections import defaultdict\n",
    "import pandas as pd"
   ]
  },
  {
   "cell_type": "markdown",
   "metadata": {},
   "source": [
    "# MarkovChain Class\n",
    "The `MarkovChain` class implements the core functionality of the text generator. It includes methods for:\n",
    "- Initializing the Markov Chain graph.\n",
    "- Tokenizing input text.\n",
    "- Training the model by building a graph of word transitions.\n",
    "- Reading and processing CSV files.\n",
    "- Generating text sequences based on the trained model."
   ]
  },
  {
   "cell_type": "markdown",
   "metadata": {},
   "source": [
    "### `__init__` Method\n",
    "This method initializes the `MarkovChain` instance. It sets up the Markov Chain graph as a `defaultdict` of lists, where each key is a word, and the value is a list of possible next words."
   ]
  },
  {
   "cell_type": "code",
   "execution_count": 30,
   "metadata": {},
   "outputs": [],
   "source": [
    "class MarkovChain:\n",
    "    def __init__(self):\n",
    "        \"\"\"\n",
    "        Initializes the MarkovChain instance.\n",
    "\n",
    "        Attributes:\n",
    "            graph (defaultdict): A dictionary where each key is a word and the value \n",
    "                                 is a list of possible next words.\n",
    "        \"\"\"\n",
    "        self.graph = defaultdict(list)"
   ]
  },
  {
   "cell_type": "markdown",
   "metadata": {},
   "source": [
    "### `_tokenize` Method\n",
    "This method tokenizes the input text by:\n",
    "1. Removing punctuation and numeric characters.\n",
    "2. Replacing newlines with spaces.\n",
    "3. Splitting the text into individual words.\n",
    "\n",
    "#### Arguments:\n",
    "- `text` (str): The input text to be tokenized.\n",
    "\n",
    "#### Returns:\n",
    "- `list`: A list of words (tokens) extracted from the input text."
   ]
  },
  {
   "cell_type": "code",
   "execution_count": null,
   "metadata": {},
   "outputs": [],
   "source": [
    "def _tokenize(self, text):\n",
    "        \"\"\"\n",
    "        Tokenizes the input text by removing punctuation, numbers, and splitting it into words.\n",
    "        \"\"\"\n",
    "        return (\n",
    "            text.translate(str.maketrans(\"\", \"\", punctuation + \"1234567890\"))\n",
    "            .replace(\"\\n\", \" \")\n",
    "            .split(\" \")\n",
    "        )"
   ]
  },
  {
   "cell_type": "markdown",
   "metadata": {},
   "source": [
    "### `_train` Method\n",
    "This method trains the Markov Chain model by building a graph of word transitions from the input text.\n",
    "\n",
    "#### Arguments:\n",
    "- `text` (str): The input text used to train the Markov Chain model.\n",
    "\n",
    "#### How It Works:\n",
    "1. Tokenizes the input text using the `_tokenize` method.\n",
    "2. Iterates through the tokens and builds a graph where each word points to a list of possible next words."
   ]
  },
  {
   "cell_type": "markdown",
   "metadata": {},
   "source": [
    "### `_read_pd_csv` Method\n",
    "This method reads a CSV file and converts the first column into a single string.\n",
    "\n",
    "#### Arguments:\n",
    "- `csv_file_path` (str): The path to the CSV file.\n",
    "- `header` (int or None): Row number to use as the column names, or `None` if the CSV files have no headers.\n",
    "\n",
    "#### Returns:\n",
    "- `str`: A string containing all rows of the first column, separated by newlines."
   ]
  },
  {
   "cell_type": "code",
   "execution_count": null,
   "metadata": {},
   "outputs": [],
   "source": [
    "def _read_pd_csv(self, csv_file_path, header=None):\n",
    "        \"\"\"\n",
    "        Reads a CSV file into a pandas DataFrame and converts the first column to a single string.\n",
    "        \"\"\"\n",
    "        try:\n",
    "            df = pd.read_csv(csv_file_path, encoding='UTF-8', header=header)\n",
    "            first_column_as_string = \"\\n\".join(df.iloc[:, 0].astype(str))\n",
    "            return first_column_as_string\n",
    "        except Exception as e:\n",
    "            print(f\"Error processing CSV file at {csv_file_path}: {e}\")\n",
    "            raise"
   ]
  },
  {
   "cell_type": "markdown",
   "metadata": {},
   "source": [
    "### Constants: CSV File Paths\n",
    "\n",
    "The `CSV_FILE_PATHS` constant defines a list of file paths to the CSV datasets used for training the Markov Chain model. Each file contains text data that will be processed and combined to build the Markov Chain graph.\n",
    "\n",
    "#### Details:\n",
    "- The datasets are stored in the `csv_datasets` directory.\n",
    "- Each file is expected to have text data in the first column, which will be concatenated into a single string for training.\n",
    "\n",
    "#### Example File Paths:\n",
    "1. `markov_chain_impression_dataset.csv`: Contains impression-based text data.\n",
    "2. `reddit_social_media_comments.csv`: Contains comments from Reddit.\n",
    "3. `twitter_social_media_comments.csv`: Contains comments from Twitter.\n",
    "\n",
    "These datasets are used to train the model, enabling it to generate text sequences that mimic the style and structure of the input data."
   ]
  },
  {
   "cell_type": "code",
   "execution_count": null,
   "metadata": {},
   "outputs": [],
   "source": [
    "    # Define constants for CSV file paths\n",
    "CSV_FILE_PATHS = [\n",
    "    \"/Users/apple/Documents/Projects/Samhail/csv_datasets/markov_chain_impression_dataset.csv\",\n",
    "    \"/Users/apple/Documents/Projects/Samhail/csv_datasets/reddit_social_media_comments.csv\",\n",
    "    \"/Users/apple/Documents/Projects/Samhail/csv_datasets/twitter_social_media_comments.csv\"\n",
    "]"
   ]
  },
  {
   "cell_type": "markdown",
   "metadata": {},
   "source": [
    "### `_generate` Method\n",
    "This method generates a sequence of text based on the trained Markov Chain and a given prompt.\n",
    "\n",
    "#### Arguments:\n",
    "- `prompt` (str): The initial text to start the generation.\n",
    "- `length` (int): The number of words to generate (default is 10).\n",
    "\n",
    "#### Returns:\n",
    "- `str`: A string containing the generated sequence of text."
   ]
  },
  {
   "cell_type": "code",
   "execution_count": null,
   "metadata": {},
   "outputs": [],
   "source": [
    "def _generate(self, prompt, length=10):\n",
    "        \"\"\"\n",
    "        Generates a sequence of text based on the trained Markov Chain and a given prompt.\n",
    "        \"\"\"\n",
    "        current = self._tokenize(prompt)[-1]\n",
    "        output = prompt\n",
    "        for i in range(length):\n",
    "            options = self.graph.get(current, [])\n",
    "            if not options:\n",
    "                continue\n",
    "            current = random.choice(options)\n",
    "            output += f\" {current}\"\n",
    "        return output"
   ]
  },
  {
   "cell_type": "markdown",
   "metadata": {},
   "source": [
    "### `_train_model` Method\n",
    "This method trains the Markov Chain model using text data from multiple CSV files.\n",
    "\n",
    "#### Arguments:\n",
    "- `csv_file_paths` (list of str): A list of file paths to the CSV files containing the training data.\n",
    "- `csv_header` (int or None): Row number to use as the column names, or `None` if the CSV files have no headers.\n",
    "\n",
    "#### Returns:\n",
    "- `MarkovChain`: An instance of the MarkovChain class trained on the combined text data."
   ]
  },
  {
   "cell_type": "code",
   "execution_count": null,
   "metadata": {},
   "outputs": [],
   "source": [
    "def _train_model(self, csv_file_paths, csv_header=None):\n",
    "        \"\"\"\n",
    "        Trains the Markov Chain model using text data from multiple CSV files.\n",
    "        \"\"\"\n",
    "        if not csv_file_paths:\n",
    "            raise ValueError(\"No CSV file paths provided.\")\n",
    "        text = \"\"\n",
    "        for csv_file_path in csv_file_paths:\n",
    "            text += self._read_pd_csv(csv_file_path, header=csv_header)\n",
    "        self._train(text)\n",
    "        return self"
   ]
  },
  {
   "cell_type": "markdown",
   "metadata": {},
   "source": [
    "### `predict_next` Function\n",
    "This standalone function trains the Markov Chain model and generates text based on user input.\n",
    "\n",
    "#### Steps:\n",
    "1. Creates an instance of the `MarkovChain` class.\n",
    "2. Trains the model using the `_train_model` method.\n",
    "3. Prompts the user for input text.\n",
    "4. Generates a sequence of text using the `_generate` method."
   ]
  },
  {
   "cell_type": "code",
   "execution_count": 36,
   "metadata": {},
   "outputs": [],
   "source": [
    "def predict_next():\n",
    "    \"\"\"\n",
    "    Trains the Markov Chain model and generates text based on user input.\n",
    "    \"\"\"\n",
    "    model = MarkovChain()\n",
    "    trained_model = model._train_model(CSV_FILE_PATHS)\n",
    "    prompt = input(\"Enter a prompt: \")\n",
    "    print(\"The predicted sentence is the following: \\n\", trained_model._generate(prompt, length=10))"
   ]
  },
  {
   "cell_type": "code",
   "execution_count": 37,
   "metadata": {},
   "outputs": [
    {
     "ename": "AttributeError",
     "evalue": "'MarkovChain' object has no attribute '_train_model'",
     "output_type": "error",
     "traceback": [
      "\u001b[0;31m---------------------------------------------------------------------------\u001b[0m",
      "\u001b[0;31mAttributeError\u001b[0m                            Traceback (most recent call last)",
      "Cell \u001b[0;32mIn[37], line 2\u001b[0m\n\u001b[1;32m      1\u001b[0m \u001b[38;5;66;03m# Run the predict_next function\u001b[39;00m\n\u001b[0;32m----> 2\u001b[0m predict_next()\n",
      "Cell \u001b[0;32mIn[36], line 6\u001b[0m, in \u001b[0;36mpredict_next\u001b[0;34m()\u001b[0m\n\u001b[1;32m      2\u001b[0m \u001b[38;5;250m\u001b[39m\u001b[38;5;124;03m\"\"\"\u001b[39;00m\n\u001b[1;32m      3\u001b[0m \u001b[38;5;124;03mTrains the Markov Chain model and generates text based on user input.\u001b[39;00m\n\u001b[1;32m      4\u001b[0m \u001b[38;5;124;03m\"\"\"\u001b[39;00m\n\u001b[1;32m      5\u001b[0m model \u001b[38;5;241m=\u001b[39m MarkovChain()\n\u001b[0;32m----> 6\u001b[0m trained_model \u001b[38;5;241m=\u001b[39m model\u001b[38;5;241m.\u001b[39m_train_model(CSV_FILE_PATHS)\n\u001b[1;32m      7\u001b[0m prompt \u001b[38;5;241m=\u001b[39m \u001b[38;5;28minput\u001b[39m(\u001b[38;5;124m\"\u001b[39m\u001b[38;5;124mEnter a prompt: \u001b[39m\u001b[38;5;124m\"\u001b[39m)\n\u001b[1;32m      8\u001b[0m \u001b[38;5;28mprint\u001b[39m(\u001b[38;5;124m\"\u001b[39m\u001b[38;5;124mThe predicted sentence is the following: \u001b[39m\u001b[38;5;130;01m\\n\u001b[39;00m\u001b[38;5;124m\"\u001b[39m, trained_model\u001b[38;5;241m.\u001b[39m_generate(prompt, length\u001b[38;5;241m=\u001b[39m\u001b[38;5;241m10\u001b[39m))\n",
      "\u001b[0;31mAttributeError\u001b[0m: 'MarkovChain' object has no attribute '_train_model'"
     ]
    }
   ],
   "source": [
    "# Run the predict_next function\n",
    "predict_next()"
   ]
  }
 ],
 "metadata": {
  "kernelspec": {
   "display_name": "base",
   "language": "python",
   "name": "python3"
  },
  "language_info": {
   "codemirror_mode": {
    "name": "ipython",
    "version": 3
   },
   "file_extension": ".py",
   "mimetype": "text/x-python",
   "name": "python",
   "nbconvert_exporter": "python",
   "pygments_lexer": "ipython3",
   "version": "3.12.7"
  }
 },
 "nbformat": 4,
 "nbformat_minor": 2
}
